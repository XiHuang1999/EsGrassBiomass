{
 "cells": [
  {
   "cell_type": "code",
   "execution_count": 2,
   "id": "89c5725e",
   "metadata": {
    "scrolled": false
   },
   "outputs": [
    {
     "data": {
      "text/plain": "<IPython.core.display.HTML object>",
      "text/html": "<p>To authorize access needed by Earth Engine, open the following\n        URL in a web browser and follow the instructions:</p>\n        <p><a href=https://accounts.google.com/o/oauth2/auth?client_id=517222506229-vsmmajv00ul0bs7p89v5m89qs8eb9359.apps.googleusercontent.com&scope=https%3A%2F%2Fwww.googleapis.com%2Fauth%2Fearthengine+https%3A%2F%2Fwww.googleapis.com%2Fauth%2Fdevstorage.full_control&redirect_uri=urn%3Aietf%3Awg%3Aoauth%3A2.0%3Aoob&response_type=code&code_challenge=SBmVf6bxEPq30rPLJS7bHcNm8uvqg7G92SLW5DSCe78&code_challenge_method=S256>https://accounts.google.com/o/oauth2/auth?client_id=517222506229-vsmmajv00ul0bs7p89v5m89qs8eb9359.apps.googleusercontent.com&scope=https%3A%2F%2Fwww.googleapis.com%2Fauth%2Fearthengine+https%3A%2F%2Fwww.googleapis.com%2Fauth%2Fdevstorage.full_control&redirect_uri=urn%3Aietf%3Awg%3Aoauth%3A2.0%3Aoob&response_type=code&code_challenge=SBmVf6bxEPq30rPLJS7bHcNm8uvqg7G92SLW5DSCe78&code_challenge_method=S256</a></p>\n        <p>The authorization workflow will generate a code, which you\n        should paste in the box below</p>\n        "
     },
     "metadata": {},
     "output_type": "display_data"
    },
    {
     "ename": "Exception",
     "evalue": "Problem requesting tokens. Please try again.  HTTP Error 400: Bad Request b'{\\n  \"error\": \"invalid_grant\",\\n  \"error_description\": \"Bad Request\"\\n}'",
     "output_type": "error",
     "traceback": [
      "\u001B[1;31m---------------------------------------------------------------------------\u001B[0m",
      "\u001B[1;31mFileNotFoundError\u001B[0m                         Traceback (most recent call last)",
      "\u001B[1;32mE:\\Anaconda\\Anaconda\\lib\\site-packages\\ee\\data.py\u001B[0m in \u001B[0;36mget_persistent_credentials\u001B[1;34m()\u001B[0m\n\u001B[0;32m    229\u001B[0m   \u001B[1;32mtry\u001B[0m\u001B[1;33m:\u001B[0m\u001B[1;33m\u001B[0m\u001B[1;33m\u001B[0m\u001B[0m\n\u001B[1;32m--> 230\u001B[1;33m     \u001B[0mtokens\u001B[0m \u001B[1;33m=\u001B[0m \u001B[0mjson\u001B[0m\u001B[1;33m.\u001B[0m\u001B[0mload\u001B[0m\u001B[1;33m(\u001B[0m\u001B[0mopen\u001B[0m\u001B[1;33m(\u001B[0m\u001B[0moauth\u001B[0m\u001B[1;33m.\u001B[0m\u001B[0mget_credentials_path\u001B[0m\u001B[1;33m(\u001B[0m\u001B[1;33m)\u001B[0m\u001B[1;33m)\u001B[0m\u001B[1;33m)\u001B[0m\u001B[1;33m\u001B[0m\u001B[1;33m\u001B[0m\u001B[0m\n\u001B[0m\u001B[0;32m    231\u001B[0m     \u001B[0mrefresh_token\u001B[0m \u001B[1;33m=\u001B[0m \u001B[0mtokens\u001B[0m\u001B[1;33m[\u001B[0m\u001B[1;34m'refresh_token'\u001B[0m\u001B[1;33m]\u001B[0m\u001B[1;33m\u001B[0m\u001B[1;33m\u001B[0m\u001B[0m\n",
      "\u001B[1;31mFileNotFoundError\u001B[0m: [Errno 2] No such file or directory: 'C:\\\\Users\\\\xihua/.config/earthengine/credentials'",
      "\nDuring handling of the above exception, another exception occurred:\n",
      "\u001B[1;31mEEException\u001B[0m                               Traceback (most recent call last)",
      "\u001B[1;32mE:\\Anaconda\\Anaconda\\lib\\site-packages\\geemap\\common.py\u001B[0m in \u001B[0;36mee_initialize\u001B[1;34m(token_name)\u001B[0m\n\u001B[0;32m     81\u001B[0m \u001B[1;33m\u001B[0m\u001B[0m\n\u001B[1;32m---> 82\u001B[1;33m             \u001B[0mee\u001B[0m\u001B[1;33m.\u001B[0m\u001B[0mInitialize\u001B[0m\u001B[1;33m(\u001B[0m\u001B[1;33m)\u001B[0m\u001B[1;33m\u001B[0m\u001B[1;33m\u001B[0m\u001B[0m\n\u001B[0m\u001B[0;32m     83\u001B[0m         \u001B[1;32mexcept\u001B[0m \u001B[0mException\u001B[0m\u001B[1;33m:\u001B[0m\u001B[1;33m\u001B[0m\u001B[1;33m\u001B[0m\u001B[0m\n",
      "\u001B[1;32mE:\\Anaconda\\Anaconda\\lib\\site-packages\\ee\\__init__.py\u001B[0m in \u001B[0;36mInitialize\u001B[1;34m(credentials, opt_url, use_cloud_api, cloud_api_key, http_transport, project)\u001B[0m\n\u001B[0;32m    113\u001B[0m   \u001B[1;32mif\u001B[0m \u001B[0mcredentials\u001B[0m \u001B[1;33m==\u001B[0m \u001B[1;34m'persistent'\u001B[0m\u001B[1;33m:\u001B[0m\u001B[1;33m\u001B[0m\u001B[1;33m\u001B[0m\u001B[0m\n\u001B[1;32m--> 114\u001B[1;33m     \u001B[0mcredentials\u001B[0m \u001B[1;33m=\u001B[0m \u001B[0mdata\u001B[0m\u001B[1;33m.\u001B[0m\u001B[0mget_persistent_credentials\u001B[0m\u001B[1;33m(\u001B[0m\u001B[1;33m)\u001B[0m\u001B[1;33m\u001B[0m\u001B[1;33m\u001B[0m\u001B[0m\n\u001B[0m\u001B[0;32m    115\u001B[0m   data.initialize(\n",
      "\u001B[1;32mE:\\Anaconda\\Anaconda\\lib\\site-packages\\ee\\data.py\u001B[0m in \u001B[0;36mget_persistent_credentials\u001B[1;34m()\u001B[0m\n\u001B[0;32m    240\u001B[0m     raise ee_exception.EEException(\n\u001B[1;32m--> 241\u001B[1;33m         \u001B[1;34m'Please authorize access to your Earth Engine account by '\u001B[0m\u001B[1;33m\u001B[0m\u001B[1;33m\u001B[0m\u001B[0m\n\u001B[0m\u001B[0;32m    242\u001B[0m         \u001B[1;34m'running\\n\\nearthengine authenticate\\n\\nin your command line, and then '\u001B[0m\u001B[1;33m\u001B[0m\u001B[1;33m\u001B[0m\u001B[0m\n",
      "\u001B[1;31mEEException\u001B[0m: Please authorize access to your Earth Engine account by running\n\nearthengine authenticate\n\nin your command line, and then retry.",
      "\nDuring handling of the above exception, another exception occurred:\n",
      "\u001B[1;31mHTTPError\u001B[0m                                 Traceback (most recent call last)",
      "\u001B[1;32mE:\\Anaconda\\Anaconda\\lib\\site-packages\\ee\\oauth.py\u001B[0m in \u001B[0;36mrequest_token\u001B[1;34m(auth_code, code_verifier)\u001B[0m\n\u001B[0;32m     83\u001B[0m         \u001B[0mTOKEN_URI\u001B[0m\u001B[1;33m,\u001B[0m\u001B[1;33m\u001B[0m\u001B[1;33m\u001B[0m\u001B[0m\n\u001B[1;32m---> 84\u001B[1;33m         parse.urlencode(request_args).encode()).read().decode()\n\u001B[0m\u001B[0;32m     85\u001B[0m     \u001B[0mrefresh_token\u001B[0m \u001B[1;33m=\u001B[0m \u001B[0mjson\u001B[0m\u001B[1;33m.\u001B[0m\u001B[0mloads\u001B[0m\u001B[1;33m(\u001B[0m\u001B[0mresponse\u001B[0m\u001B[1;33m)\u001B[0m\u001B[1;33m[\u001B[0m\u001B[1;34m'refresh_token'\u001B[0m\u001B[1;33m]\u001B[0m\u001B[1;33m\u001B[0m\u001B[1;33m\u001B[0m\u001B[0m\n",
      "\u001B[1;32mE:\\Anaconda\\Anaconda\\lib\\urllib\\request.py\u001B[0m in \u001B[0;36murlopen\u001B[1;34m(url, data, timeout, cafile, capath, cadefault, context)\u001B[0m\n\u001B[0;32m    221\u001B[0m         \u001B[0mopener\u001B[0m \u001B[1;33m=\u001B[0m \u001B[0m_opener\u001B[0m\u001B[1;33m\u001B[0m\u001B[1;33m\u001B[0m\u001B[0m\n\u001B[1;32m--> 222\u001B[1;33m     \u001B[1;32mreturn\u001B[0m \u001B[0mopener\u001B[0m\u001B[1;33m.\u001B[0m\u001B[0mopen\u001B[0m\u001B[1;33m(\u001B[0m\u001B[0murl\u001B[0m\u001B[1;33m,\u001B[0m \u001B[0mdata\u001B[0m\u001B[1;33m,\u001B[0m \u001B[0mtimeout\u001B[0m\u001B[1;33m)\u001B[0m\u001B[1;33m\u001B[0m\u001B[1;33m\u001B[0m\u001B[0m\n\u001B[0m\u001B[0;32m    223\u001B[0m \u001B[1;33m\u001B[0m\u001B[0m\n",
      "\u001B[1;32mE:\\Anaconda\\Anaconda\\lib\\urllib\\request.py\u001B[0m in \u001B[0;36mopen\u001B[1;34m(self, fullurl, data, timeout)\u001B[0m\n\u001B[0;32m    530\u001B[0m             \u001B[0mmeth\u001B[0m \u001B[1;33m=\u001B[0m \u001B[0mgetattr\u001B[0m\u001B[1;33m(\u001B[0m\u001B[0mprocessor\u001B[0m\u001B[1;33m,\u001B[0m \u001B[0mmeth_name\u001B[0m\u001B[1;33m)\u001B[0m\u001B[1;33m\u001B[0m\u001B[1;33m\u001B[0m\u001B[0m\n\u001B[1;32m--> 531\u001B[1;33m             \u001B[0mresponse\u001B[0m \u001B[1;33m=\u001B[0m \u001B[0mmeth\u001B[0m\u001B[1;33m(\u001B[0m\u001B[0mreq\u001B[0m\u001B[1;33m,\u001B[0m \u001B[0mresponse\u001B[0m\u001B[1;33m)\u001B[0m\u001B[1;33m\u001B[0m\u001B[1;33m\u001B[0m\u001B[0m\n\u001B[0m\u001B[0;32m    532\u001B[0m \u001B[1;33m\u001B[0m\u001B[0m\n",
      "\u001B[1;32mE:\\Anaconda\\Anaconda\\lib\\urllib\\request.py\u001B[0m in \u001B[0;36mhttp_response\u001B[1;34m(self, request, response)\u001B[0m\n\u001B[0;32m    640\u001B[0m             response = self.parent.error(\n\u001B[1;32m--> 641\u001B[1;33m                 'http', request, response, code, msg, hdrs)\n\u001B[0m\u001B[0;32m    642\u001B[0m \u001B[1;33m\u001B[0m\u001B[0m\n",
      "\u001B[1;32mE:\\Anaconda\\Anaconda\\lib\\urllib\\request.py\u001B[0m in \u001B[0;36merror\u001B[1;34m(self, proto, *args)\u001B[0m\n\u001B[0;32m    568\u001B[0m             \u001B[0margs\u001B[0m \u001B[1;33m=\u001B[0m \u001B[1;33m(\u001B[0m\u001B[0mdict\u001B[0m\u001B[1;33m,\u001B[0m \u001B[1;34m'default'\u001B[0m\u001B[1;33m,\u001B[0m \u001B[1;34m'http_error_default'\u001B[0m\u001B[1;33m)\u001B[0m \u001B[1;33m+\u001B[0m \u001B[0morig_args\u001B[0m\u001B[1;33m\u001B[0m\u001B[1;33m\u001B[0m\u001B[0m\n\u001B[1;32m--> 569\u001B[1;33m             \u001B[1;32mreturn\u001B[0m \u001B[0mself\u001B[0m\u001B[1;33m.\u001B[0m\u001B[0m_call_chain\u001B[0m\u001B[1;33m(\u001B[0m\u001B[1;33m*\u001B[0m\u001B[0margs\u001B[0m\u001B[1;33m)\u001B[0m\u001B[1;33m\u001B[0m\u001B[1;33m\u001B[0m\u001B[0m\n\u001B[0m\u001B[0;32m    570\u001B[0m \u001B[1;33m\u001B[0m\u001B[0m\n",
      "\u001B[1;32mE:\\Anaconda\\Anaconda\\lib\\urllib\\request.py\u001B[0m in \u001B[0;36m_call_chain\u001B[1;34m(self, chain, kind, meth_name, *args)\u001B[0m\n\u001B[0;32m    502\u001B[0m             \u001B[0mfunc\u001B[0m \u001B[1;33m=\u001B[0m \u001B[0mgetattr\u001B[0m\u001B[1;33m(\u001B[0m\u001B[0mhandler\u001B[0m\u001B[1;33m,\u001B[0m \u001B[0mmeth_name\u001B[0m\u001B[1;33m)\u001B[0m\u001B[1;33m\u001B[0m\u001B[1;33m\u001B[0m\u001B[0m\n\u001B[1;32m--> 503\u001B[1;33m             \u001B[0mresult\u001B[0m \u001B[1;33m=\u001B[0m \u001B[0mfunc\u001B[0m\u001B[1;33m(\u001B[0m\u001B[1;33m*\u001B[0m\u001B[0margs\u001B[0m\u001B[1;33m)\u001B[0m\u001B[1;33m\u001B[0m\u001B[1;33m\u001B[0m\u001B[0m\n\u001B[0m\u001B[0;32m    504\u001B[0m             \u001B[1;32mif\u001B[0m \u001B[0mresult\u001B[0m \u001B[1;32mis\u001B[0m \u001B[1;32mnot\u001B[0m \u001B[1;32mNone\u001B[0m\u001B[1;33m:\u001B[0m\u001B[1;33m\u001B[0m\u001B[1;33m\u001B[0m\u001B[0m\n",
      "\u001B[1;32mE:\\Anaconda\\Anaconda\\lib\\urllib\\request.py\u001B[0m in \u001B[0;36mhttp_error_default\u001B[1;34m(self, req, fp, code, msg, hdrs)\u001B[0m\n\u001B[0;32m    648\u001B[0m     \u001B[1;32mdef\u001B[0m \u001B[0mhttp_error_default\u001B[0m\u001B[1;33m(\u001B[0m\u001B[0mself\u001B[0m\u001B[1;33m,\u001B[0m \u001B[0mreq\u001B[0m\u001B[1;33m,\u001B[0m \u001B[0mfp\u001B[0m\u001B[1;33m,\u001B[0m \u001B[0mcode\u001B[0m\u001B[1;33m,\u001B[0m \u001B[0mmsg\u001B[0m\u001B[1;33m,\u001B[0m \u001B[0mhdrs\u001B[0m\u001B[1;33m)\u001B[0m\u001B[1;33m:\u001B[0m\u001B[1;33m\u001B[0m\u001B[1;33m\u001B[0m\u001B[0m\n\u001B[1;32m--> 649\u001B[1;33m         \u001B[1;32mraise\u001B[0m \u001B[0mHTTPError\u001B[0m\u001B[1;33m(\u001B[0m\u001B[0mreq\u001B[0m\u001B[1;33m.\u001B[0m\u001B[0mfull_url\u001B[0m\u001B[1;33m,\u001B[0m \u001B[0mcode\u001B[0m\u001B[1;33m,\u001B[0m \u001B[0mmsg\u001B[0m\u001B[1;33m,\u001B[0m \u001B[0mhdrs\u001B[0m\u001B[1;33m,\u001B[0m \u001B[0mfp\u001B[0m\u001B[1;33m)\u001B[0m\u001B[1;33m\u001B[0m\u001B[1;33m\u001B[0m\u001B[0m\n\u001B[0m\u001B[0;32m    650\u001B[0m \u001B[1;33m\u001B[0m\u001B[0m\n",
      "\u001B[1;31mHTTPError\u001B[0m: HTTP Error 400: Bad Request",
      "\nDuring handling of the above exception, another exception occurred:\n",
      "\u001B[1;31mException\u001B[0m                                 Traceback (most recent call last)",
      "\u001B[1;32m<ipython-input-2-d04aea061491>\u001B[0m in \u001B[0;36m<module>\u001B[1;34m\u001B[0m\n\u001B[0;32m      1\u001B[0m \u001B[1;32mimport\u001B[0m \u001B[0mgeemap\u001B[0m\u001B[1;33m\u001B[0m\u001B[1;33m\u001B[0m\u001B[0m\n\u001B[0;32m      2\u001B[0m \u001B[1;32mimport\u001B[0m \u001B[0mee\u001B[0m\u001B[1;33m\u001B[0m\u001B[1;33m\u001B[0m\u001B[0m\n\u001B[1;32m----> 3\u001B[1;33m \u001B[0mMap\u001B[0m \u001B[1;33m=\u001B[0m \u001B[0mgeemap\u001B[0m\u001B[1;33m.\u001B[0m\u001B[0mMap\u001B[0m\u001B[1;33m(\u001B[0m\u001B[1;33m)\u001B[0m\u001B[1;33m\u001B[0m\u001B[1;33m\u001B[0m\u001B[0m\n\u001B[0m\u001B[0;32m      4\u001B[0m \u001B[0mMap\u001B[0m\u001B[1;33m\u001B[0m\u001B[1;33m\u001B[0m\u001B[0m\n",
      "\u001B[1;32mE:\\Anaconda\\Anaconda\\lib\\site-packages\\geemap\\geemap.py\u001B[0m in \u001B[0;36m__init__\u001B[1;34m(self, **kwargs)\u001B[0m\n\u001B[0;32m     35\u001B[0m \u001B[1;33m\u001B[0m\u001B[0m\n\u001B[0;32m     36\u001B[0m         \u001B[1;32mif\u001B[0m \u001B[0mkwargs\u001B[0m\u001B[1;33m[\u001B[0m\u001B[1;34m\"ee_initialize\"\u001B[0m\u001B[1;33m]\u001B[0m\u001B[1;33m:\u001B[0m\u001B[1;33m\u001B[0m\u001B[1;33m\u001B[0m\u001B[0m\n\u001B[1;32m---> 37\u001B[1;33m             \u001B[0mee_initialize\u001B[0m\u001B[1;33m(\u001B[0m\u001B[1;33m)\u001B[0m\u001B[1;33m\u001B[0m\u001B[1;33m\u001B[0m\u001B[0m\n\u001B[0m\u001B[0;32m     38\u001B[0m \u001B[1;33m\u001B[0m\u001B[0m\n\u001B[0;32m     39\u001B[0m         \u001B[1;31m# Default map center location (lat, lon) and zoom level\u001B[0m\u001B[1;33m\u001B[0m\u001B[1;33m\u001B[0m\u001B[1;33m\u001B[0m\u001B[0m\n",
      "\u001B[1;32mE:\\Anaconda\\Anaconda\\lib\\site-packages\\geemap\\common.py\u001B[0m in \u001B[0;36mee_initialize\u001B[1;34m(token_name)\u001B[0m\n\u001B[0;32m     82\u001B[0m             \u001B[0mee\u001B[0m\u001B[1;33m.\u001B[0m\u001B[0mInitialize\u001B[0m\u001B[1;33m(\u001B[0m\u001B[1;33m)\u001B[0m\u001B[1;33m\u001B[0m\u001B[1;33m\u001B[0m\u001B[0m\n\u001B[0;32m     83\u001B[0m         \u001B[1;32mexcept\u001B[0m \u001B[0mException\u001B[0m\u001B[1;33m:\u001B[0m\u001B[1;33m\u001B[0m\u001B[1;33m\u001B[0m\u001B[0m\n\u001B[1;32m---> 84\u001B[1;33m             \u001B[0mee\u001B[0m\u001B[1;33m.\u001B[0m\u001B[0mAuthenticate\u001B[0m\u001B[1;33m(\u001B[0m\u001B[1;33m)\u001B[0m\u001B[1;33m\u001B[0m\u001B[1;33m\u001B[0m\u001B[0m\n\u001B[0m\u001B[0;32m     85\u001B[0m             \u001B[0mee\u001B[0m\u001B[1;33m.\u001B[0m\u001B[0mInitialize\u001B[0m\u001B[1;33m(\u001B[0m\u001B[1;33m)\u001B[0m\u001B[1;33m\u001B[0m\u001B[1;33m\u001B[0m\u001B[0m\n\u001B[0;32m     86\u001B[0m \u001B[1;33m\u001B[0m\u001B[0m\n",
      "\u001B[1;32mE:\\Anaconda\\Anaconda\\lib\\site-packages\\ee\\__init__.py\u001B[0m in \u001B[0;36mAuthenticate\u001B[1;34m(authorization_code, quiet, code_verifier)\u001B[0m\n\u001B[0;32m     84\u001B[0m     \u001B[0mcode_verifier\u001B[0m\u001B[1;33m:\u001B[0m \u001B[0mPKCE\u001B[0m \u001B[0mverifier\u001B[0m \u001B[0mto\u001B[0m \u001B[0mprevent\u001B[0m \u001B[0mauth\u001B[0m \u001B[0mcode\u001B[0m \u001B[0mstealing\u001B[0m\u001B[1;33m.\u001B[0m\u001B[1;33m\u001B[0m\u001B[1;33m\u001B[0m\u001B[0m\n\u001B[0;32m     85\u001B[0m   \"\"\"\n\u001B[1;32m---> 86\u001B[1;33m   \u001B[0moauth\u001B[0m\u001B[1;33m.\u001B[0m\u001B[0mauthenticate\u001B[0m\u001B[1;33m(\u001B[0m\u001B[0mauthorization_code\u001B[0m\u001B[1;33m,\u001B[0m \u001B[0mquiet\u001B[0m\u001B[1;33m,\u001B[0m \u001B[0mcode_verifier\u001B[0m\u001B[1;33m)\u001B[0m\u001B[1;33m\u001B[0m\u001B[1;33m\u001B[0m\u001B[0m\n\u001B[0m\u001B[0;32m     87\u001B[0m \u001B[1;33m\u001B[0m\u001B[0m\n\u001B[0;32m     88\u001B[0m \u001B[1;33m\u001B[0m\u001B[0m\n",
      "\u001B[1;32mE:\\Anaconda\\Anaconda\\lib\\site-packages\\ee\\oauth.py\u001B[0m in \u001B[0;36mauthenticate\u001B[1;34m(cli_authorization_code, quiet, cli_code_verifier)\u001B[0m\n\u001B[0;32m    231\u001B[0m   \u001B[0mwebbrowser\u001B[0m\u001B[1;33m.\u001B[0m\u001B[0mopen_new\u001B[0m\u001B[1;33m(\u001B[0m\u001B[0mauth_url\u001B[0m\u001B[1;33m)\u001B[0m\u001B[1;33m\u001B[0m\u001B[1;33m\u001B[0m\u001B[0m\n\u001B[0;32m    232\u001B[0m \u001B[1;33m\u001B[0m\u001B[0m\n\u001B[1;32m--> 233\u001B[1;33m   \u001B[0m_obtain_and_write_token\u001B[0m\u001B[1;33m(\u001B[0m\u001B[1;32mNone\u001B[0m\u001B[1;33m,\u001B[0m \u001B[0mcode_verifier\u001B[0m\u001B[1;33m)\u001B[0m  \u001B[1;31m# Will prompt for auth_code.\u001B[0m\u001B[1;33m\u001B[0m\u001B[1;33m\u001B[0m\u001B[0m\n\u001B[0m",
      "\u001B[1;32mE:\\Anaconda\\Anaconda\\lib\\site-packages\\ee\\oauth.py\u001B[0m in \u001B[0;36m_obtain_and_write_token\u001B[1;34m(auth_code, code_verifier)\u001B[0m\n\u001B[0;32m    137\u001B[0m     \u001B[0mauth_code\u001B[0m \u001B[1;33m=\u001B[0m \u001B[0minput\u001B[0m\u001B[1;33m(\u001B[0m\u001B[1;34m'Enter verification code: '\u001B[0m\u001B[1;33m)\u001B[0m\u001B[1;33m\u001B[0m\u001B[1;33m\u001B[0m\u001B[0m\n\u001B[0;32m    138\u001B[0m   \u001B[1;32massert\u001B[0m \u001B[0misinstance\u001B[0m\u001B[1;33m(\u001B[0m\u001B[0mauth_code\u001B[0m\u001B[1;33m,\u001B[0m \u001B[0msix\u001B[0m\u001B[1;33m.\u001B[0m\u001B[0mstring_types\u001B[0m\u001B[1;33m)\u001B[0m\u001B[1;33m\u001B[0m\u001B[1;33m\u001B[0m\u001B[0m\n\u001B[1;32m--> 139\u001B[1;33m   \u001B[0mtoken\u001B[0m \u001B[1;33m=\u001B[0m \u001B[0mrequest_token\u001B[0m\u001B[1;33m(\u001B[0m\u001B[0mauth_code\u001B[0m\u001B[1;33m.\u001B[0m\u001B[0mstrip\u001B[0m\u001B[1;33m(\u001B[0m\u001B[1;33m)\u001B[0m\u001B[1;33m,\u001B[0m \u001B[0mcode_verifier\u001B[0m\u001B[1;33m)\u001B[0m\u001B[1;33m\u001B[0m\u001B[1;33m\u001B[0m\u001B[0m\n\u001B[0m\u001B[0;32m    140\u001B[0m   \u001B[0mwrite_token\u001B[0m\u001B[1;33m(\u001B[0m\u001B[0mtoken\u001B[0m\u001B[1;33m)\u001B[0m\u001B[1;33m\u001B[0m\u001B[1;33m\u001B[0m\u001B[0m\n\u001B[0;32m    141\u001B[0m   \u001B[0mprint\u001B[0m\u001B[1;33m(\u001B[0m\u001B[1;34m'\\nSuccessfully saved authorization token.'\u001B[0m\u001B[1;33m)\u001B[0m\u001B[1;33m\u001B[0m\u001B[1;33m\u001B[0m\u001B[0m\n",
      "\u001B[1;32mE:\\Anaconda\\Anaconda\\lib\\site-packages\\ee\\oauth.py\u001B[0m in \u001B[0;36mrequest_token\u001B[1;34m(auth_code, code_verifier)\u001B[0m\n\u001B[0;32m     86\u001B[0m   \u001B[1;32mexcept\u001B[0m \u001B[0mHTTPError\u001B[0m \u001B[1;32mas\u001B[0m \u001B[0me\u001B[0m\u001B[1;33m:\u001B[0m\u001B[1;33m\u001B[0m\u001B[1;33m\u001B[0m\u001B[0m\n\u001B[0;32m     87\u001B[0m     raise Exception('Problem requesting tokens. Please try again.  %s %s' %\n\u001B[1;32m---> 88\u001B[1;33m                     (e, e.read()))\n\u001B[0m\u001B[0;32m     89\u001B[0m \u001B[1;33m\u001B[0m\u001B[0m\n\u001B[0;32m     90\u001B[0m   \u001B[1;32mreturn\u001B[0m \u001B[0mrefresh_token\u001B[0m\u001B[1;33m\u001B[0m\u001B[1;33m\u001B[0m\u001B[0m\n",
      "\u001B[1;31mException\u001B[0m: Problem requesting tokens. Please try again.  HTTP Error 400: Bad Request b'{\\n  \"error\": \"invalid_grant\",\\n  \"error_description\": \"Bad Request\"\\n}'"
     ]
    }
   ],
   "source": [
    "import geemap\n",
    "import ee\n",
    "Map = geemap.Map()\n",
    "Map"
   ]
  },
  {
   "cell_type": "code",
   "execution_count": 4,
   "id": "ff247e7b",
   "metadata": {},
   "outputs": [
    {
     "data": {
      "application/vnd.jupyter.widget-view+json": {
       "model_id": "8d80b467123d4339ae7e15176e52002b",
       "version_major": 2,
       "version_minor": 0
      },
      "text/plain": [
       "Map(bottom=1873.0, center=[38.47939467327645, 103.75488281250001], controls=(WidgetControl(options=['position'…"
      ]
     },
     "metadata": {},
     "output_type": "display_data"
    }
   ],
   "source": [
    "import os\n",
    "# os.environ['PROJ_LIB'] = r'C:\\Users\\Administrator\\Anaconda3\\envs\\py3.8\\Library\\share\\proj'\n",
    "# os.environ['GDAL_DATA'] = r'C:\\Users\\Administrator\\Anaconda3\\envs\\py3.8\\Library\\share'\n",
    "\n",
    "os.environ['HTTP_PROXY'] = 'http://127.0.0.1:10809'\n",
    "chain4 = geemap.shp_to_ee(r\"G:\\1_BeiJingUP\\CarbonReport\\Data\\Climate4region\\CClimate4Regions_4R.shp\")\n",
    "china = geemap.shp_to_ee(r\"G:\\1_BeiJingUP\\CarbonReport\\Data\\Climate4region\\CClimate4Regions_CHN.shp\")\n",
    "\n",
    "Map.addLayer(chain4, {}, 'CHN Climate Boundary')\n",
    "Map\n",
    "\n",
    "days=[31,28,31,30,31,30,31,31,30,31,30,31]"
   ]
  },
  {
   "cell_type": "code",
   "execution_count": 5,
   "id": "9d61d4fe",
   "metadata": {},
   "outputs": [
    {
     "data": {
      "text/html": [
       "<div>\n",
       "<style scoped>\n",
       "    .dataframe tbody tr th:only-of-type {\n",
       "        vertical-align: middle;\n",
       "    }\n",
       "\n",
       "    .dataframe tbody tr th {\n",
       "        vertical-align: top;\n",
       "    }\n",
       "\n",
       "    .dataframe thead th {\n",
       "        text-align: right;\n",
       "    }\n",
       "</style>\n",
       "<table border=\"1\" class=\"dataframe\">\n",
       "  <thead>\n",
       "    <tr style=\"text-align: right;\">\n",
       "      <th></th>\n",
       "      <th>Id</th>\n",
       "      <th>Name</th>\n",
       "    </tr>\n",
       "  </thead>\n",
       "  <tbody>\n",
       "    <tr>\n",
       "      <th>0</th>\n",
       "      <td>0.0</td>\n",
       "      <td>NaN</td>\n",
       "    </tr>\n",
       "    <tr>\n",
       "      <th>1</th>\n",
       "      <td>NaN</td>\n",
       "      <td>Inland</td>\n",
       "    </tr>\n",
       "    <tr>\n",
       "      <th>2</th>\n",
       "      <td>NaN</td>\n",
       "      <td>QT</td>\n",
       "    </tr>\n",
       "    <tr>\n",
       "      <th>3</th>\n",
       "      <td>NaN</td>\n",
       "      <td>Temperate</td>\n",
       "    </tr>\n",
       "    <tr>\n",
       "      <th>4</th>\n",
       "      <td>NaN</td>\n",
       "      <td>Tropical</td>\n",
       "    </tr>\n",
       "  </tbody>\n",
       "</table>\n",
       "</div>"
      ],
      "text/plain": [
       "    Id       Name\n",
       "0  0.0        NaN\n",
       "1  NaN     Inland\n",
       "2  NaN         QT\n",
       "3  NaN  Temperate\n",
       "4  NaN   Tropical"
      ]
     },
     "execution_count": 5,
     "metadata": {},
     "output_type": "execute_result"
    }
   ],
   "source": [
    "roi = china.merge(chain4)\n",
    "import pandas as pd\n",
    "df = pd.DataFrame([roi.getInfo()['features'][n]['properties'] for n in range(roi.size().getInfo())])\n",
    "df"
   ]
  },
  {
   "cell_type": "markdown",
   "id": "c65e1d6b",
   "metadata": {},
   "source": [
    "# PRCP"
   ]
  },
  {
   "cell_type": "code",
   "execution_count": 77,
   "id": "56fc55c3",
   "metadata": {
    "scrolled": true
   },
   "outputs": [
    {
     "name": "stdout",
     "output_type": "stream",
     "text": [
      "1981 -> Computing statistics ...\n",
      "1982 -> Computing statistics ...\n",
      "1983 -> Computing statistics ...\n",
      "1984 -> Computing statistics ...\n",
      "1985 -> Computing statistics ...\n",
      "1986 -> Computing statistics ...\n",
      "1987 -> Computing statistics ...\n",
      "1988 -> Computing statistics ...\n",
      "1989 -> Computing statistics ...\n",
      "1990 -> Computing statistics ...\n",
      "1991 -> Computing statistics ...\n",
      "1992 -> Computing statistics ...\n",
      "1993 -> Computing statistics ...\n",
      "1994 -> Computing statistics ...\n",
      "1995 -> Computing statistics ...\n",
      "1996 -> Computing statistics ...\n",
      "1997 -> Computing statistics ...\n",
      "1998 -> Computing statistics ...\n",
      "1999 -> Computing statistics ...\n",
      "2000 -> Computing statistics ...\n",
      "2001 -> Computing statistics ...\n",
      "2002 -> Computing statistics ...\n",
      "2003 -> Computing statistics ...\n",
      "2004 -> Computing statistics ...\n",
      "2005 -> Computing statistics ...\n",
      "2006 -> Computing statistics ...\n",
      "2007 -> Computing statistics ...\n",
      "2008 -> Computing statistics ...\n",
      "2009 -> Computing statistics ...\n",
      "2010 -> Computing statistics ...\n",
      "2011 -> Computing statistics ...\n",
      "2012 -> Computing statistics ...\n",
      "2013 -> Computing statistics ...\n",
      "2014 -> Computing statistics ...\n",
      "2015 -> Computing statistics ...\n",
      "2016 -> Computing statistics ...\n",
      "2017 -> Computing statistics ...\n",
      "2018 -> Computing statistics ...\n",
      "2019 -> Computing statistics ...\n",
      "2020 -> Computing statistics ...\n",
      "\n",
      "     Id       Name         1981         1982         1983         1984  \\\n",
      "0  0.0        NaN   844.958400   835.567178   894.407404   839.470145   \n",
      "1  NaN     Inland   302.834486   269.858173   301.505817   303.175601   \n",
      "2  NaN         QT   612.039802   563.548532   545.045068   557.343694   \n",
      "3  NaN  Temperate   752.771875   703.349684   805.745145   844.804302   \n",
      "4  NaN   Tropical  1879.853306  1977.129224  2120.246181  1840.274125   \n",
      "\n",
      "          1985         1986         1987         1988  ...         2011  \\\n",
      "0   863.299819   790.720569   867.814132   827.752644  ...   685.695126   \n",
      "1   289.913582   272.728343   323.510680   314.436579  ...   241.784499   \n",
      "2   615.872413   554.755743   580.655602   627.253984  ...   606.307407   \n",
      "3   858.238539   697.734325   806.724589   759.115592  ...   650.854798   \n",
      "4  1882.605476  1798.353798  1939.465171  1770.181109  ...  1377.045298   \n",
      "\n",
      "          2012         2013         2014         2015         2016  \\\n",
      "0   815.582878   762.059853   754.324518   788.707064   841.180456   \n",
      "1   300.803827   276.971978   254.897816   281.115145   305.597568   \n",
      "2   622.623582   600.565624   612.193497   564.263133   639.832325   \n",
      "3   729.626725   771.851867   630.030346   644.424407   719.128151   \n",
      "4  1765.945102  1560.159545  1660.600080  1812.617711  1857.581564   \n",
      "\n",
      "          2017         2018         2019         2020  \n",
      "0   763.740781   784.558207   760.205615   817.881669  \n",
      "1   255.688583   291.342733   271.372866   258.416548  \n",
      "2   650.120629   671.931618   638.852644   638.699006  \n",
      "3   628.096228   702.942794   672.824566   762.280480  \n",
      "4  1659.223571  1615.041422  1599.373212  1785.891684  \n",
      "\n",
      "[5 rows x 42 columns]\n"
     ]
    }
   ],
   "source": [
    "for year in range(1981,2021):\n",
    "    yrImgC = ee.Image(0)\n",
    "    print(year,end=' -> ')\n",
    "    for month in range(1,13):\n",
    "        # Change the numbers of the days in every month\n",
    "        if (year//4==0):\n",
    "            days[1]=29\n",
    "        else:\n",
    "            days[1]=28\n",
    "        start_date = str(year) + '-' + str(month).zfill(2) + '-01'\n",
    "        end_date = str(year) + '-' + str(month).zfill(2) + '-' + str(days[month-1])\n",
    "        # print(start_date+' To '+end_date)\n",
    "        era5_imgC = ee.ImageCollection(\"ECMWF/ERA5_LAND/MONTHLY\").select(\"total_precipitation\").filterDate(start_date,end_date)\n",
    "        # print('Numbers of Month Image: 'era5_imgC.size().getInfo())\n",
    "        \n",
    "        # Calculate the monthly value\n",
    "        era5_month = era5_imgC.mean().multiply(1000*days[month-1]) # or use era5_imgC.first().multiply(days[month])\n",
    "        \n",
    "        # Calculate yearly value-------SUM\n",
    "        yrImgC = yrImgC.add(era5_month)\n",
    "    \n",
    "    # Zonal Stati\n",
    "    fes = geemap.zonal_statistics(yrImgC,roi,r\"G:\\1_BeiJingUP\\CarbonReport\\Data_0728\\GEE_ERA5_total_precipitation.csv\",\n",
    "                                      \"MEAN\",return_fc=True,scale=11132)\n",
    "    df[str(year)] = pd.DataFrame([fes.getInfo()['features'][n]['properties'] for n in range(roi.size().getInfo())])[\"mean\"]\n",
    "    # Map.addLayer(yrImgC, {}, 'Yearly PRCP')\n",
    "    \n",
    "# Save Outcome\n",
    "df.to_excel(r\"G:\\1_BeiJingUP\\CarbonReport\\Data_0728\\ERA5_total_precipitation.xlsx\",index=None)\n",
    "print('\\n',df)"
   ]
  },
  {
   "cell_type": "markdown",
   "id": "af7b25f6",
   "metadata": {},
   "source": [
    "# TAVG"
   ]
  },
  {
   "cell_type": "code",
   "execution_count": 78,
   "id": "344cbfac",
   "metadata": {},
   "outputs": [
    {
     "name": "stdout",
     "output_type": "stream",
     "text": [
      "1981 -> Computing statistics ...\n",
      "1982 -> Computing statistics ...\n",
      "1983 -> Computing statistics ...\n",
      "1984 -> Computing statistics ...\n",
      "1985 -> Computing statistics ...\n",
      "1986 -> Computing statistics ...\n",
      "1987 -> Computing statistics ...\n",
      "1988 -> Computing statistics ...\n",
      "1989 -> Computing statistics ...\n",
      "1990 -> Computing statistics ...\n",
      "1991 -> Computing statistics ...\n",
      "1992 -> Computing statistics ...\n",
      "1993 -> Computing statistics ...\n",
      "1994 -> Computing statistics ...\n",
      "1995 -> Computing statistics ...\n",
      "1996 -> Computing statistics ...\n",
      "1997 -> Computing statistics ...\n",
      "1998 -> Computing statistics ...\n",
      "1999 -> Computing statistics ...\n",
      "2000 -> Computing statistics ...\n",
      "2001 -> Computing statistics ...\n",
      "2002 -> Computing statistics ...\n",
      "2003 -> Computing statistics ...\n",
      "2004 -> Computing statistics ...\n",
      "2005 -> Computing statistics ...\n",
      "2006 -> Computing statistics ...\n",
      "2007 -> Computing statistics ...\n",
      "2008 -> Computing statistics ...\n",
      "2009 -> Computing statistics ...\n",
      "2010 -> Computing statistics ...\n",
      "2011 -> Computing statistics ...\n",
      "2012 -> Computing statistics ...\n",
      "2013 -> Computing statistics ...\n",
      "2014 -> Computing statistics ...\n",
      "2015 -> Computing statistics ...\n",
      "2016 -> Computing statistics ...\n",
      "2017 -> Computing statistics ...\n",
      "2018 -> Computing statistics ...\n",
      "2019 -> Computing statistics ...\n",
      "2020 -> Computing statistics ...\n",
      "\n",
      "     Id       Name       1981       1982       1983       1984       1985  \\\n",
      "0  0.0        NaN   5.714853   5.977212   5.699903   5.466089   5.541889   \n",
      "1  NaN     Inland   6.281245   7.055911   6.761871   5.646882   6.129836   \n",
      "2  NaN         QT  -3.914059  -4.327371  -4.874447  -3.400543  -4.001387   \n",
      "3  NaN  Temperate   5.686306   6.460828   6.135812   5.281322   5.383304   \n",
      "4  NaN   Tropical  15.593730  15.511733  15.592224  15.135543  15.406197   \n",
      "\n",
      "        1986       1987       1988  ...       2011       2012       2013  \\\n",
      "0   5.734632   6.142078   6.189567  ...   6.266195   5.920385   6.691570   \n",
      "1   6.419993   6.716236   6.685822  ...   7.152261   6.568189   7.710517   \n",
      "2  -4.120202  -3.119463  -3.142213  ...  -3.589146  -4.002361  -3.386244   \n",
      "3   5.812063   5.625742   6.263684  ...   6.460829   6.041257   6.549464   \n",
      "4  15.620173  16.010287  15.747679  ...  15.795272  15.893350  16.571585   \n",
      "\n",
      "        2014       2015       2016       2017       2018       2019       2020  \n",
      "0   6.645592   6.967764   7.065048   7.081992   6.721703   6.956855   7.045181  \n",
      "1   7.478659   7.910807   7.799515   8.055515   7.467409   8.052948   7.733513  \n",
      "2  -3.476073  -3.021978  -2.300413  -2.833697  -3.255800  -3.772815  -2.781876  \n",
      "3   7.100695   7.326826   6.860682   7.282329   7.134259   7.679509   7.576920  \n",
      "4  16.320824  16.434832  16.581803  16.559394  16.386791  16.738631  16.520623  \n",
      "\n",
      "[5 rows x 42 columns]\n"
     ]
    }
   ],
   "source": [
    "# for year in range(1981,2020):\n",
    "#     era5 = ee.ImageCollection(\"ECMWF/ERA5_LAND/MONTHLY\").select(\"temperature_2m\").filterDate(str(year),str(year+1)).mean()\n",
    "#     fes = geemap.zonal_statistics(era5,roi,r\"C:\\Users\\Administrator\\Desktop\\temperature_2m.csv\",\n",
    "#                         \"MEAN\",return_fc=True,scale=11132)\n",
    "#     df[str(year)] = pd.DataFrame([fes.getInfo()['features'][n]['properties'] for n in range(roi.size().getInfo())])[\"mean\"]\n",
    "#     df.to_excel(r\"D:\\project\\done\\temperature_2m.xlsx\",index=None)\n",
    "\n",
    "for year in range(1981,2021):\n",
    "    yrImgC = ee.Image(0)\n",
    "    print(year,end=' -> ')\n",
    "    for month in range(1,13):\n",
    "        # Change the numbers of the days in every month\n",
    "        if (year//4==0):\n",
    "            days[1]=29\n",
    "        else:\n",
    "            days[1]=28\n",
    "        start_date = str(year) + '-' + str(month).zfill(2) + '-01'\n",
    "        end_date = str(year) + '-' + str(month).zfill(2) + '-' + str(days[month-1])\n",
    "        # print(start_date+' To '+end_date)\n",
    "        era5_imgC = ee.ImageCollection(\"ECMWF/ERA5_LAND/MONTHLY\").select(\"temperature_2m\").filterDate(start_date,end_date)\n",
    "        # print('Numbers of Month Image: 'era5_imgC.size().getInfo())\n",
    "        \n",
    "        # Calculate the monthly value\n",
    "        era5_month = (era5_imgC.mean().subtract(273.15).multiply(days[month-1])) # or use era5_imgC.first().multiply(days[month])\n",
    "        yrImgC = yrImgC.add(era5_month)\n",
    "    \n",
    "    # Calculate yearly value-------MEAN\n",
    "    yrImgC = yrImgC.divide(sum(days))\n",
    "    \n",
    "    # Zonal Stati\n",
    "    fes = geemap.zonal_statistics(yrImgC,roi,r\"G:\\1_BeiJingUP\\CarbonReport\\Data_0728\\GEE_ERA5_temperature_2m.csv\",\n",
    "                                      \"MEAN\",return_fc=True,scale=11132)\n",
    "    df[str(year)] = pd.DataFrame([fes.getInfo()['features'][n]['properties'] for n in range(roi.size().getInfo())])[\"mean\"]\n",
    "    # Map.addLayer(yrImgC, {}, 'Yearly PRCP')\n",
    "    \n",
    "# Save Outcome\n",
    "df.to_excel(r\"G:\\1_BeiJingUP\\CarbonReport\\Data_0728\\ERA5_temperature_2m.xlsx\",index=None)\n",
    "print('\\n',df)"
   ]
  },
  {
   "cell_type": "markdown",
   "id": "b404e62a",
   "metadata": {},
   "source": [
    "# SWRS"
   ]
  },
  {
   "cell_type": "code",
   "execution_count": 62,
   "id": "61662e45",
   "metadata": {
    "collapsed": true
   },
   "outputs": [
    {
     "name": "stdout",
     "output_type": "stream",
     "text": [
      "1981 -> Computing statistics ...\n",
      "    Id       Name          1981\n",
      "0  0.0        NaN  1.661934e+07\n",
      "1  NaN     Inland  1.698970e+07\n",
      "2  NaN         QT  2.059251e+07\n",
      "3  NaN  Temperate  1.458467e+07\n",
      "4  NaN   Tropical  1.345263e+07\n"
     ]
    }
   ],
   "source": [
    "# for year in range(1981,2020):\n",
    "#     era5 = ee.ImageCollection(\"ECMWF/ERA5_LAND/MONTHLY\").select(\"surface_solar_radiation_downwards\").filterDate(str(year),str(year+1)).sum()\n",
    "#     fes = geemap.zonal_statistics(era5,roi,r\"C:\\Users\\Administrator\\Desktop\\surface_solar_radiation_downwards.csv\",\n",
    "#                         \"MEAN\",return_fc=True,scale=11132)\n",
    "#     df[str(year)] = pd.DataFrame([fes.getInfo()['features'][n]['properties'] for n in range(roi.size().getInfo())])[\"mean\"]\n",
    "# df.to_excel(r\"D:\\project\\done\\surface_solar_radiation_downwards.xlsx\",index=None)\n",
    "\n"
   ]
  },
  {
   "cell_type": "code",
   "execution_count": 75,
   "id": "2d918d1a",
   "metadata": {
    "scrolled": true
   },
   "outputs": [
    {
     "data": {
      "application/vnd.jupyter.widget-view+json": {
       "model_id": "8d80b467123d4339ae7e15176e52002b",
       "version_major": 2,
       "version_minor": 0
      },
      "text/plain": [
       "Map(bottom=1171.0, center=[25.958044673317843, 116.45507812500001], controls=(WidgetControl(options=['position…"
      ]
     },
     "metadata": {},
     "output_type": "display_data"
    }
   ],
   "source": [
    "Map\n"
   ]
  }
 ],
 "metadata": {
  "hide_input": false,
  "kernelspec": {
   "display_name": "Python 3",
   "language": "python",
   "name": "python3"
  },
  "language_info": {
   "codemirror_mode": {
    "name": "ipython",
    "version": 3
   },
   "file_extension": ".py",
   "mimetype": "text/x-python",
   "name": "python",
   "nbconvert_exporter": "python",
   "pygments_lexer": "ipython3",
   "version": "3.7.6"
  },
  "varInspector": {
   "cols": {
    "lenName": 16,
    "lenType": 16,
    "lenVar": 40
   },
   "kernels_config": {
    "python": {
     "delete_cmd_postfix": "",
     "delete_cmd_prefix": "del ",
     "library": "var_list.py",
     "varRefreshCmd": "print(var_dic_list())"
    },
    "r": {
     "delete_cmd_postfix": ") ",
     "delete_cmd_prefix": "rm(",
     "library": "var_list.r",
     "varRefreshCmd": "cat(var_dic_list()) "
    }
   },
   "types_to_exclude": [
    "module",
    "function",
    "builtin_function_or_method",
    "instance",
    "_Feature"
   ],
   "window_display": false
  }
 },
 "nbformat": 4,
 "nbformat_minor": 5
}